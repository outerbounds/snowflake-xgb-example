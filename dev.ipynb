{
 "cells": [
  {
   "cell_type": "code",
   "execution_count": null,
   "metadata": {},
   "outputs": [],
   "source": [
    "import os\n",
    "\n",
    "# fetch data\n",
    "from snowflake.sqlalchemy import URL\n",
    "from sqlalchemy import create_engine\n",
    "\n",
    "# process data\n",
    "import pandas as pd\n",
    "from sklearn.model_selection import train_test_split\n",
    "\n",
    "# model data\n",
    "import xgboost as xgb\n",
    "\n",
    "# visualize data\n",
    "import matplotlib.pyplot as plt\n",
    "import seaborn as sns\n",
    "sns.set_theme()\n",
    "\n",
    "# evals\n",
    "from sklearn.metrics import root_mean_squared_error\n",
    "\n",
    "from dotenv import load_dotenv\n",
    "load_dotenv('.env')"
   ]
  },
  {
   "cell_type": "code",
   "execution_count": null,
   "metadata": {},
   "outputs": [],
   "source": [
    "DB='snowflake_sample_data'\n",
    "SCHEMA='tpch_sf1'"
   ]
  },
  {
   "cell_type": "code",
   "execution_count": null,
   "metadata": {},
   "outputs": [],
   "source": [
    "engine = create_engine(\n",
    "    URL(\n",
    "        user=os.environ[\"SNOWFLAKE_USER\"],\n",
    "        password=os.environ[\"SNOWFLAKE_PASSWORD\"],\n",
    "        account=os.environ[\"SNOWFLAKE_ACCOUNT_IDENTIFIER\"],\n",
    "        warehouse=os.environ[\"SNOWFLAKE_WAREHOUSE\"],\n",
    "        database=DB,\n",
    "        schema=SCHEMA\n",
    "    )\n",
    ")"
   ]
  },
  {
   "cell_type": "code",
   "execution_count": null,
   "metadata": {},
   "outputs": [],
   "source": []
  },
  {
   "cell_type": "markdown",
   "metadata": {},
   "source": [
    "## Run sample query"
   ]
  },
  {
   "cell_type": "code",
   "execution_count": null,
   "metadata": {},
   "outputs": [],
   "source": [
    "# https://docs.snowflake.com/en/user-guide/sample-data-tpch\n",
    "query = \"\"\"\n",
    "select\n",
    "       l_returnflag,\n",
    "       l_linestatus,\n",
    "       sum(l_quantity) as sum_qty,\n",
    "       sum(l_extendedprice) as sum_base_price,\n",
    "       sum(l_extendedprice * (1-l_discount)) as sum_disc_price,\n",
    "       sum(l_extendedprice * (1-l_discount) * (1+l_tax)) as sum_charge,\n",
    "       avg(l_quantity) as avg_qty,\n",
    "       avg(l_extendedprice) as avg_price,\n",
    "       avg(l_discount) as avg_disc,\n",
    "       count(*) as count_order\n",
    " from\n",
    "       snowflake_sample_data.tpch_sf1.lineitem\n",
    " where\n",
    "       l_shipdate <= dateadd(day, -90, to_date('1998-12-01'))\n",
    " group by\n",
    "       l_returnflag,\n",
    "       l_linestatus\n",
    " order by\n",
    "       l_returnflag,\n",
    "       l_linestatus;\n",
    "\"\"\"\n",
    "df = pd.read_sql(query, engine)"
   ]
  },
  {
   "cell_type": "code",
   "execution_count": null,
   "metadata": {},
   "outputs": [],
   "source": [
    "df"
   ]
  },
  {
   "cell_type": "markdown",
   "metadata": {},
   "source": [
    "## Fetch unprocessed data for feature engineering"
   ]
  },
  {
   "cell_type": "code",
   "execution_count": null,
   "metadata": {},
   "outputs": [],
   "source": [
    "feature_columns = ['l_partkey','l_suppkey','l_quantity','l_discount','l_tax']\n",
    "prediction_column = 'l_extendedprice'\n",
    "all_columns = feature_columns + [prediction_column]"
   ]
  },
  {
   "cell_type": "code",
   "execution_count": null,
   "metadata": {},
   "outputs": [],
   "source": [
    "N=1_000_000"
   ]
  },
  {
   "cell_type": "code",
   "execution_count": null,
   "metadata": {},
   "outputs": [],
   "source": [
    "all_data = pd.read_sql(f'select {\", \".join(all_columns)} from lineitem limit {N}', engine)"
   ]
  },
  {
   "cell_type": "code",
   "execution_count": null,
   "metadata": {},
   "outputs": [],
   "source": [
    "all_data.describe()"
   ]
  },
  {
   "cell_type": "code",
   "execution_count": null,
   "metadata": {},
   "outputs": [],
   "source": [
    "sns.pairplot(all_data)"
   ]
  },
  {
   "cell_type": "code",
   "execution_count": null,
   "metadata": {},
   "outputs": [],
   "source": [
    "X_train, X_holdout, y_train, y_holdout = train_test_split(\n",
    "    all_data[feature_columns], \n",
    "    all_data[prediction_column], \n",
    "    test_size=0.05\n",
    ")\n",
    "\n",
    "X_train, X_validation, y_train, y_validation = train_test_split(X_train,  y_train, test_size=0.2)\n",
    "\n",
    "print(f\"Training data: {X_train.shape[0]} rows\")\n",
    "print(f\"Validation data: {X_validation.shape[0]} rows\")\n",
    "print(f\"Holdout data: {X_holdout.shape[0]} rows\")"
   ]
  },
  {
   "cell_type": "code",
   "execution_count": null,
   "metadata": {},
   "outputs": [],
   "source": [
    "model = xgb.XGBRegressor(\n",
    "    eval_metric='rmse',\n",
    ")\n",
    "model.fit(X_train, y_train, eval_set=[(X_validation, y_validation)], verbose=0)\n",
    "booster = model.get_booster()\n",
    "booster.feature_names = feature_columns"
   ]
  },
  {
   "cell_type": "code",
   "execution_count": null,
   "metadata": {},
   "outputs": [],
   "source": [
    "y_hat = model.predict(X_holdout)"
   ]
  },
  {
   "cell_type": "code",
   "execution_count": null,
   "metadata": {},
   "outputs": [],
   "source": [
    "root_mean_squared_error(y_holdout, y_hat)"
   ]
  }
 ],
 "metadata": {
  "kernelspec": {
   "display_name": "metaflow-snowflake-xgb-example",
   "language": "python",
   "name": "python3"
  },
  "language_info": {
   "codemirror_mode": {
    "name": "ipython",
    "version": 3
   },
   "file_extension": ".py",
   "mimetype": "text/x-python",
   "name": "python",
   "nbconvert_exporter": "python",
   "pygments_lexer": "ipython3",
   "version": "3.12.3"
  }
 },
 "nbformat": 4,
 "nbformat_minor": 2
}
